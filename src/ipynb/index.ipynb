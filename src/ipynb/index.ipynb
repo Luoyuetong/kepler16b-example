{
 "cells": [
  {
   "cell_type": "markdown",
   "metadata": {},
   "source": [
    "# Kepler16b\n",
    "This is a description of a fanciful space mission called Kepler16b, which is an exoplanet orbiting a binary star system approximately 245 light-years from Earth. "
   ]
  },
  {
   "cell_type": "markdown",
   "metadata": {},
   "source": [
    "## Missions\n",
    "The Kepler16b project delivers two missions: [a Lander Mission](doc/example.com/tutorial2/description/missions/lander.html) and an [Orbiter Mission](doc/example.com/tutorial2/description/missions/orbiter.html), each of which pursues a number of objectives. For details, check the [full documentation](doc)."
   ]
  },
  {
   "cell_type": "code",
   "execution_count": null,
   "metadata": {},
   "outputs": [],
   "source": [
    "from utilities import *\n",
    "df = dataframe(\"missions.json\")\n",
    "data = df.to_json(orient = \"records\")\n",
    "HTML(tree.safe_substitute(data=data))"
   ]
  },
  {
   "cell_type": "markdown",
   "metadata": {},
   "source": [
    "## Objectives\n",
    "The Kepler16b missions' objectives aggregate other lower-level objectives as depicted by the following diagram:"
   ]
  },
  {
   "cell_type": "code",
   "execution_count": null,
   "metadata": {},
   "outputs": [],
   "source": [
    "from utilities import *\n",
    "df = dataframe(\"objectives.json\")\n",
    "objectives1 = todict(df, 'o1_id', 'o1_name')\n",
    "objectives2 = todict(df, 'o2_id', 'o2_name')\n",
    "aggregations = tolists(df, 'o1_id', 'o2_id')\n",
    "diagram(objects(union(objectives1, objectives2), aggregations, 'o--', 'objective'))"
   ]
  },
  {
   "cell_type": "markdown",
   "metadata": {},
   "source": [
    "## Components\n",
    "The Kelper16 missions' components are organized in a physical decomposition hierarchy as shown below."
   ]
  },
  {
   "cell_type": "code",
   "execution_count": null,
   "metadata": {},
   "outputs": [],
   "source": [
    "from utilities import *\n",
    "df = dataframe(\"components.json\")\n",
    "components1 = todict(df, 'c1_id', 'c1_name')\n",
    "components2 = todict(df, 'c2_id', 'c2_name')\n",
    "compositions = tolists(df, 'c2_id', 'c1_id')\n",
    "diagram('left to right direction\\nskinparam nodesep 10\\n'+objects(union(components1, components2), compositions, '*--', 'component'))"
   ]
  },
  {
   "cell_type": "markdown",
   "metadata": {},
   "source": [
    "## Mass Rollup\n",
    "The Kelper16 missions' components are characterized by their masses. Those masses are rolled up the physical decomposition hierarchy as shown below.\""
   ]
  },
  {
   "cell_type": "code",
   "execution_count": null,
   "metadata": {},
   "outputs": [],
   "source": [
    "from utilities import *\n",
    "df = dataframe(\"components.json\")\n",
    "components = tolist(df, 'c1_id')\n",
    "compositions = tolists(df, 'c2_id', 'c1_id')\n",
    "masses = [float(x) if not pd.isna(x) else 0 for x in tolist(df, 'c1_mass')]\n",
    "graph = rollup(components, compositions, \"mass\", masses)\n",
    "df = df[['c1_id', 'c1_name', 'c1_mass']]\n",
    "df.loc[:, 'c1_mass'] = graph.vs[\"mass\"]\n",
    "df = df.rename(columns={\"c1_id\": \"Id\", \"c1_name\": \"Name\", \"c1_mass\": \"Mass\"})\n",
    "style = df.style.hide(axis=\"index\").set_properties(**{'text-align': 'left', 'font-size': '12pt',})\n",
    "style.format(precision=2).set_table_styles([dict(selector='th', props=[('text-align', 'left')])])"
   ]
  }
 ],
 "metadata": {
  "kernelspec": {
   "display_name": "Python 3",
   "language": "python",
   "name": "python3"
  },
  "language_info": {
   "codemirror_mode": {
    "name": "ipython",
    "version": 3
   },
   "file_extension": ".py",
   "mimetype": "text/x-python",
   "name": "python",
   "nbconvert_exporter": "python",
   "pygments_lexer": "ipython3",
   "version": "3.8.9"
  },
  "orig_nbformat": 4
 },
 "nbformat": 4,
 "nbformat_minor": 2
}
